{
 "cells": [
  {
   "cell_type": "markdown",
   "metadata": {},
   "source": [
    "### Predicting the Price of Homes in Boston\n",
    "\n",
    "The data are available to load from Scikit-Learn, and you can read more about it [here](https://scikit-learn.org/stable/datasets/index.html#boston-dataset).\n",
    "\n",
    "---\n",
    "##### Columns in the data set:\n",
    "- `CRIM`: per capita crime rate by town\n",
    "- `ZN`: proportion of residential land zoned for lots over 25,000 sq.ft.\n",
    "- `INDUS`: proportion of non-retail business acres per town\n",
    "- `CHAS`: Charles River dummy variable (= 1 if tract bounds river; 0 otherwise)\n",
    "- `NX`: nitric oxides concentration (parts per 10 million)\n",
    "- `RM`: average number of rooms per dwelling\n",
    "- `AGE`: proportion of owner-occupied units built prior to 1940\n",
    "- `DIS`: weighted distances to five Boston employment centres\n",
    "- `RAD`: index of accessibility to radial highways\n",
    "- `TAX`: full-value property-tax rate per $10,000\n",
    "- `PTRATIO`: pupil-teacher ratio by town\n",
    "- `B`: 1000(Bk - 0.63)^2 where Bk is the proportion of blacks by town\n",
    "\n",
    "- `LSTAT`: percent lower status of the population\n",
    "- `MEDV`: Median value of owner-occupied homes in $1000’s"
   ]
  },
  {
   "cell_type": "code",
   "execution_count": 68,
   "metadata": {},
   "outputs": [],
   "source": [
    "import pandas as pd\n",
    "import numpy as np\n",
    "import matplotlib.pyplot as plt\n",
    "import seaborn as sns\n",
    "import statsmodels.api as sm\n",
    "\n",
    "from sklearn.linear_model import LinearRegression\n",
    "from sklearn.metrics import mean_squared_error\n",
    "from sklearn.model_selection import train_test_split\n",
    "from sklearn.model_selection import cross_val_score\n",
    "from sklearn.linear_model import Ridge\n",
    "%matplotlib inline \n"
   ]
  },
  {
   "cell_type": "code",
   "execution_count": 4,
   "metadata": {},
   "outputs": [
    {
     "data": {
      "text/html": [
       "<div>\n",
       "<style scoped>\n",
       "    .dataframe tbody tr th:only-of-type {\n",
       "        vertical-align: middle;\n",
       "    }\n",
       "\n",
       "    .dataframe tbody tr th {\n",
       "        vertical-align: top;\n",
       "    }\n",
       "\n",
       "    .dataframe thead th {\n",
       "        text-align: right;\n",
       "    }\n",
       "</style>\n",
       "<table border=\"1\" class=\"dataframe\">\n",
       "  <thead>\n",
       "    <tr style=\"text-align: right;\">\n",
       "      <th></th>\n",
       "      <th>CRIM</th>\n",
       "      <th>ZN</th>\n",
       "      <th>INDUS</th>\n",
       "      <th>CHAS</th>\n",
       "      <th>NX</th>\n",
       "      <th>RM</th>\n",
       "      <th>AGE</th>\n",
       "      <th>DIS</th>\n",
       "      <th>RAD</th>\n",
       "      <th>TAX</th>\n",
       "      <th>PTRATIO</th>\n",
       "      <th>B</th>\n",
       "      <th>LSTAT</th>\n",
       "      <th>MEDV</th>\n",
       "    </tr>\n",
       "  </thead>\n",
       "  <tbody>\n",
       "    <tr>\n",
       "      <th>0</th>\n",
       "      <td>0.00632</td>\n",
       "      <td>18.0</td>\n",
       "      <td>2.31</td>\n",
       "      <td>0</td>\n",
       "      <td>0.538</td>\n",
       "      <td>6.575</td>\n",
       "      <td>65.2</td>\n",
       "      <td>4.0900</td>\n",
       "      <td>1</td>\n",
       "      <td>296.0</td>\n",
       "      <td>15.3</td>\n",
       "      <td>396.90</td>\n",
       "      <td>4.98</td>\n",
       "      <td>24.0</td>\n",
       "    </tr>\n",
       "    <tr>\n",
       "      <th>1</th>\n",
       "      <td>0.02731</td>\n",
       "      <td>0.0</td>\n",
       "      <td>7.07</td>\n",
       "      <td>0</td>\n",
       "      <td>0.469</td>\n",
       "      <td>6.421</td>\n",
       "      <td>78.9</td>\n",
       "      <td>4.9671</td>\n",
       "      <td>2</td>\n",
       "      <td>242.0</td>\n",
       "      <td>17.8</td>\n",
       "      <td>396.90</td>\n",
       "      <td>9.14</td>\n",
       "      <td>21.6</td>\n",
       "    </tr>\n",
       "    <tr>\n",
       "      <th>2</th>\n",
       "      <td>0.02729</td>\n",
       "      <td>0.0</td>\n",
       "      <td>7.07</td>\n",
       "      <td>0</td>\n",
       "      <td>0.469</td>\n",
       "      <td>7.185</td>\n",
       "      <td>61.1</td>\n",
       "      <td>4.9671</td>\n",
       "      <td>2</td>\n",
       "      <td>242.0</td>\n",
       "      <td>17.8</td>\n",
       "      <td>392.83</td>\n",
       "      <td>4.03</td>\n",
       "      <td>34.7</td>\n",
       "    </tr>\n",
       "    <tr>\n",
       "      <th>3</th>\n",
       "      <td>0.03237</td>\n",
       "      <td>0.0</td>\n",
       "      <td>2.18</td>\n",
       "      <td>0</td>\n",
       "      <td>0.458</td>\n",
       "      <td>6.998</td>\n",
       "      <td>45.8</td>\n",
       "      <td>6.0622</td>\n",
       "      <td>3</td>\n",
       "      <td>222.0</td>\n",
       "      <td>18.7</td>\n",
       "      <td>394.63</td>\n",
       "      <td>2.94</td>\n",
       "      <td>33.4</td>\n",
       "    </tr>\n",
       "    <tr>\n",
       "      <th>4</th>\n",
       "      <td>0.06905</td>\n",
       "      <td>0.0</td>\n",
       "      <td>2.18</td>\n",
       "      <td>0</td>\n",
       "      <td>0.458</td>\n",
       "      <td>7.147</td>\n",
       "      <td>54.2</td>\n",
       "      <td>6.0622</td>\n",
       "      <td>3</td>\n",
       "      <td>222.0</td>\n",
       "      <td>18.7</td>\n",
       "      <td>396.90</td>\n",
       "      <td>5.33</td>\n",
       "      <td>36.2</td>\n",
       "    </tr>\n",
       "  </tbody>\n",
       "</table>\n",
       "</div>"
      ],
      "text/plain": [
       "      CRIM    ZN  INDUS  CHAS     NX     RM   AGE     DIS  RAD    TAX  \\\n",
       "0  0.00632  18.0   2.31     0  0.538  6.575  65.2  4.0900    1  296.0   \n",
       "1  0.02731   0.0   7.07     0  0.469  6.421  78.9  4.9671    2  242.0   \n",
       "2  0.02729   0.0   7.07     0  0.469  7.185  61.1  4.9671    2  242.0   \n",
       "3  0.03237   0.0   2.18     0  0.458  6.998  45.8  6.0622    3  222.0   \n",
       "4  0.06905   0.0   2.18     0  0.458  7.147  54.2  6.0622    3  222.0   \n",
       "\n",
       "   PTRATIO       B  LSTAT  MEDV  \n",
       "0     15.3  396.90   4.98  24.0  \n",
       "1     17.8  396.90   9.14  21.6  \n",
       "2     17.8  392.83   4.03  34.7  \n",
       "3     18.7  394.63   2.94  33.4  \n",
       "4     18.7  396.90   5.33  36.2  "
      ]
     },
     "execution_count": 4,
     "metadata": {},
     "output_type": "execute_result"
    }
   ],
   "source": [
    "# Read the CSV file into a DataFrame\n",
    "df = pd.read_csv('datasets/boston.csv')\n",
    "\n",
    "# Explore the dataframe\n",
    "df.head()"
   ]
  },
  {
   "cell_type": "markdown",
   "metadata": {},
   "source": [
    "#### Exploratory Data Analysis\n",
    "MEDV is the median value of owner-occupied homes in $1000’s (this is back in the 1970s, mind you). Given that I'll explore how well the features we have are correlated with median home prices."
   ]
  },
  {
   "cell_type": "code",
   "execution_count": 55,
   "metadata": {},
   "outputs": [
    {
     "data": {
      "text/plain": [
       "<matplotlib.axes._subplots.AxesSubplot at 0x1a1d7df1d0>"
      ]
     },
     "execution_count": 55,
     "metadata": {},
     "output_type": "execute_result"
    },
    {
     "data": {
      "image/png": "[encoded data removed]",
      "text/plain": [
       "<Figure size 792x576 with 2 Axes>"
      ]
     },
     "metadata": {
      "needs_background": "light"
     },
     "output_type": "display_data"
    }
   ],
   "source": [
    "# Plot the correlation between different features in the datatset.\n",
    "plt.figure(figsize=(11, 8))\n",
    "sns.heatmap(\n",
    "    df.corr(), \n",
    "    square=True, \n",
    "    cmap='RdYlGn')"
   ]
  },
  {
   "cell_type": "markdown",
   "metadata": {},
   "source": [
    "#### Plotting Features\n",
    "You can see from the heat map above that`MEDV` is more (positively) correlated with `RM` (average number of rooms) than any other of the features available. Similarly there appears to be several features, like `CRIM` (per capita crime rate), which are negatively correlated with `MEDV`. Let take a closer look at `MEDV` versus `RM` and `CRIM` respectively."
   ]
  },
  {
   "cell_type": "code",
   "execution_count": 51,
   "metadata": {},
   "outputs": [],
   "source": [
    "# Create arrays for the feature and target variables\n",
    "y = df['MEDV'].values\n",
    "X = df.drop('MEDV', axis=1).values\n",
    "\n",
    "# Slice an array which contains only the RM column\n",
    "X_rooms = X[:,5]\n",
    "\n",
    "# Reshape both y and X_rooms--keep the first dimension and add an additional dimension of size 1 to X_rooms\n",
    "y = y.reshape(-1,1)\n",
    "X_rooms = X_rooms.reshape(-1,1)"
   ]
  },
  {
   "cell_type": "code",
   "execution_count": 52,
   "metadata": {},
   "outputs": [
    {
     "data": {
      "image/png": "[encoded data removed]",
      "text/plain": [
       "<Figure size 432x288 with 1 Axes>"
      ]
     },
     "metadata": {
      "needs_background": "light"
     },
     "output_type": "display_data"
    }
   ],
   "source": [
    "# Plot home price vs number of rooms\n",
    "plt.scatter(X_rooms, y, color='blue')\n",
    "plt.ylabel('Value of house')\n",
    "plt.xlabel('Number of rooms')\n",
    "plt.show()"
   ]
  },
  {
   "cell_type": "markdown",
   "metadata": {},
   "source": [
    "#### More Rooms Means Higher Prices\n",
    "Generally speaking we can see that home prices increase with additional rooms. Just eyeballing the scatter plot one could imagine a line with a positive slope and a certain y-intercept would probably estimate the correlation between home prices and the number of rooms. "
   ]
  },
  {
   "cell_type": "code",
   "execution_count": 53,
   "metadata": {},
   "outputs": [
    {
     "data": {
      "image/png": "[encoded data removed]",
      "text/plain": [
       "<Figure size 432x288 with 1 Axes>"
      ]
     },
     "metadata": {
      "needs_background": "light"
     },
     "output_type": "display_data"
    }
   ],
   "source": [
    "# Slice an array which contains only the CRIM column\n",
    "X_crim = X[:,0]\n",
    "\n",
    "# Reshape both X_crim (y was reshaped previously)\n",
    "X_rooms = X_rooms.reshape(-1,1)\n",
    "\n",
    "# Plot home price vs number of rooms\n",
    "plt.scatter(X_crim, y, color='blue')\n",
    "plt.axis([-1, 40, 0, 52])\n",
    "plt.ylabel('Value of house')\n",
    "plt.xlabel('Per capita crime rate')\n",
    "plt.show()"
   ]
  },
  {
   "cell_type": "markdown",
   "metadata": {},
   "source": [
    "#### More Crime Means Lower Home Prices\n",
    "And now we can clearly see the negative correlation which exists between crime rates and median home prices. Similar to the last plot, one could imagine a line with a negative slope and a certain y-intercept which could estimate the correlation between median home prices and the per capita crime rate. However, in both cases a degree of error will be observed given the range of values that deviate from that line.\n",
    "\n",
    "To get a better sense for what I'm getting at I'll build a model based a single feature, `RM`, fit it to the data, and then plot resulting line on top of the scatter plot. "
   ]
  },
  {
   "cell_type": "code",
   "execution_count": 57,
   "metadata": {},
   "outputs": [
    {
     "data": {
      "image/png": "[encoded data removed]",
      "text/plain": [
       "<Figure size 432x288 with 1 Axes>"
      ]
     },
     "metadata": {
      "needs_background": "light"
     },
     "output_type": "display_data"
    }
   ],
   "source": [
    "# Instantiate a linear regressor model\n",
    "reg = LinearRegression()\n",
    "\n",
    "# Fit the model to the data\n",
    "reg.fit(X_rooms, y)\n",
    "\n",
    "# Create the prediction space\n",
    "prediction_space = np.linspace(min(X_rooms), \n",
    "                               max(X_rooms)).reshape(-1,1)\n",
    "\n",
    "# Plot regression line against\n",
    "plt.scatter(X_rooms, y, color='blue') \n",
    "plt.ylabel('Value of house')\n",
    "plt.xlabel('Number of rooms')\n",
    "\n",
    "# Plot a regression line against home price vs. number of rooms\n",
    "plt.plot(prediction_space, reg.predict(prediction_space), color='black', linewidth=3)\n",
    "\n",
    "# Display the new plot\n",
    "plt.show()"
   ]
  },
  {
   "cell_type": "markdown",
   "metadata": {},
   "source": [
    "#### Regression Line\n",
    "Great! We can clearly see how a line of best fit correlates the numbers of rooms in a house with the price of a home. But we can also see a number of points with some distance away from the line--that's why models are often called estimators. So how well does this single feature model perform?  "
   ]
  },
  {
   "cell_type": "code",
   "execution_count": 58,
   "metadata": {},
   "outputs": [
    {
     "name": "stdout",
     "output_type": "stream",
     "text": [
      "0.4835254559913343\n"
     ]
    }
   ],
   "source": [
    "# Print R^2 score\n",
    "print(reg.score(X_rooms, y))"
   ]
  },
  {
   "cell_type": "markdown",
   "metadata": {},
   "source": [
    "#### R-squared\n",
    "One way of measuring a linear model's performance is with R-squared, which is the proportion of the variance in the dependent variable that is predictable from the independent variable (between 0 and 1). Wow, okay, `0.483` is not a great R-squared score, however, we're only using one feature. Will adding more features improve our model?"
   ]
  },
  {
   "cell_type": "markdown",
   "metadata": {},
   "source": [
    "#### Pre-processing\n",
    "Before we can fit a robust model to our data we first have to discover if any of our features correlate with one another. We do this to avoid mulitcollinearity, which is the phenomena of independent variable in a regression model being correlated. Our independent variable should be just that, independent. If the degree of correlation between two independent variables is high enough, it can cause problems when you fit the model and try to interpret the results."
   ]
  },
  {
   "cell_type": "code",
   "execution_count": 61,
   "metadata": {},
   "outputs": [],
   "source": [
    "# Create a dataframe that doesn't contain the target variable, MEDV\n",
    "features = df.drop(\"MEDV\", axis=1)\n",
    "\n",
    "# Create a correlation object of features\n",
    "corr = features.corr()"
   ]
  },
  {
   "cell_type": "code",
   "execution_count": 62,
   "metadata": {},
   "outputs": [
    {
     "data": {
      "image/png": "[encoded data removed]",
      "text/plain": [
       "<Figure size 792x576 with 2 Axes>"
      ]
     },
     "metadata": {},
     "output_type": "display_data"
    }
   ],
   "source": [
    "# Plot the feature correlations object\n",
    "mask = np.zeros_like(corr)\n",
    "mask[np.triu_indices_from(mask)] = True\n",
    "\n",
    "with sns.axes_style(\"white\"):\n",
    "    fig, ax = plt.subplots(figsize=(11, 8));\n",
    "    \n",
    "    sns.heatmap(\n",
    "        corr,\n",
    "        ax=ax,\n",
    "        annot=True,\n",
    "        mask=mask,\n",
    "        square=True,\n",
    "        cmap='YlGnBu')"
   ]
  },
  {
   "cell_type": "markdown",
   "metadata": {},
   "source": [
    "#### Correlated Independent Features\n",
    "What stands out like like sore thumb here his the high corrleation between `TAX` and `RAD` (the full-value property-tax rate per $10,000 and index of accessibility to radial highways respectively). In order to fit a regression model to this data we'll have to leave one of these features out. Given we already know that `TAX` is more negatively correlated with `MEDV` I'll be leaving out `RAD`.\n"
   ]
  },
  {
   "cell_type": "code",
   "execution_count": 66,
   "metadata": {},
   "outputs": [],
   "source": [
    "# Remove RAD\n",
    "reduced_features = [f for f in features if f != 'RAD']"
   ]
  },
  {
   "cell_type": "markdown",
   "metadata": {},
   "source": [
    "#### Ordinary Least Square\n",
    "The effort following is to establish a base line working model from which we can evalutate feature performance. Later, I'll fine tune a more robust model to make more accurate predictions.\n",
    "\n",
    "#### Training data and testing data\n",
    "An effective model is one which performs well on unseen data. As such I'll need to split the data up into a training set and test set. That is to say, we want to train our data to perform well, and then test how well it performs on data it hasn't seen yet."
   ]
  },
  {
   "cell_type": "code",
   "execution_count": 69,
   "metadata": {},
   "outputs": [
    {
     "data": {
      "text/html": [
       "<table class=\"simpletable\">\n",
       "<caption>OLS Regression Results</caption>\n",
       "<tr>\n",
       "  <th>Dep. Variable:</th>            <td>y</td>        <th>  R-squared:         </th> <td>   0.778</td> \n",
       "</tr>\n",
       "<tr>\n",
       "  <th>Model:</th>                   <td>OLS</td>       <th>  Adj. R-squared:    </th> <td>   0.771</td> \n",
       "</tr>\n",
       "<tr>\n",
       "  <th>Method:</th>             <td>Least Squares</td>  <th>  F-statistic:       </th> <td>   114.3</td> \n",
       "</tr>\n",
       "<tr>\n",
       "  <th>Date:</th>             <td>Tue, 20 Nov 2018</td> <th>  Prob (F-statistic):</th> <td>9.98e-120</td>\n",
       "</tr>\n",
       "<tr>\n",
       "  <th>Time:</th>                 <td>16:28:17</td>     <th>  Log-Likelihood:    </th> <td>  95.142</td> \n",
       "</tr>\n",
       "<tr>\n",
       "  <th>No. Observations:</th>      <td>   404</td>      <th>  AIC:               </th> <td>  -164.3</td> \n",
       "</tr>\n",
       "<tr>\n",
       "  <th>Df Residuals:</th>          <td>   391</td>      <th>  BIC:               </th> <td>  -112.3</td> \n",
       "</tr>\n",
       "<tr>\n",
       "  <th>Df Model:</th>              <td>    12</td>      <th>                     </th>     <td> </td>    \n",
       "</tr>\n",
       "<tr>\n",
       "  <th>Covariance Type:</th>      <td>nonrobust</td>    <th>                     </th>     <td> </td>    \n",
       "</tr>\n",
       "</table>\n",
       "<table class=\"simpletable\">\n",
       "<tr>\n",
       "    <td></td>       <th>coef</th>     <th>std err</th>      <th>t</th>      <th>P>|t|</th>  <th>[0.025</th>    <th>0.975]</th>  \n",
       "</tr>\n",
       "<tr>\n",
       "  <th>const</th> <td>    3.8200</td> <td>    0.222</td> <td>   17.207</td> <td> 0.000</td> <td>    3.383</td> <td>    4.256</td>\n",
       "</tr>\n",
       "<tr>\n",
       "  <th>x1</th>    <td>   -0.0082</td> <td>    0.001</td> <td>   -6.066</td> <td> 0.000</td> <td>   -0.011</td> <td>   -0.006</td>\n",
       "</tr>\n",
       "<tr>\n",
       "  <th>x2</th>    <td>    0.0005</td> <td>    0.001</td> <td>    0.862</td> <td> 0.389</td> <td>   -0.001</td> <td>    0.002</td>\n",
       "</tr>\n",
       "<tr>\n",
       "  <th>x3</th>    <td>   -0.0022</td> <td>    0.003</td> <td>   -0.774</td> <td> 0.439</td> <td>   -0.008</td> <td>    0.003</td>\n",
       "</tr>\n",
       "<tr>\n",
       "  <th>x4</th>    <td>    0.1405</td> <td>    0.040</td> <td>    3.491</td> <td> 0.001</td> <td>    0.061</td> <td>    0.220</td>\n",
       "</tr>\n",
       "<tr>\n",
       "  <th>x5</th>    <td>   -0.6030</td> <td>    0.172</td> <td>   -3.504</td> <td> 0.001</td> <td>   -0.941</td> <td>   -0.265</td>\n",
       "</tr>\n",
       "<tr>\n",
       "  <th>x6</th>    <td>    0.1062</td> <td>    0.019</td> <td>    5.635</td> <td> 0.000</td> <td>    0.069</td> <td>    0.143</td>\n",
       "</tr>\n",
       "<tr>\n",
       "  <th>x7</th>    <td>  1.04e-05</td> <td>    0.001</td> <td>    0.018</td> <td> 0.986</td> <td>   -0.001</td> <td>    0.001</td>\n",
       "</tr>\n",
       "<tr>\n",
       "  <th>x8</th>    <td>   -0.0462</td> <td>    0.009</td> <td>   -5.187</td> <td> 0.000</td> <td>   -0.064</td> <td>   -0.029</td>\n",
       "</tr>\n",
       "<tr>\n",
       "  <th>x9</th>    <td>-3.298e-05</td> <td>    0.000</td> <td>   -0.307</td> <td> 0.759</td> <td>   -0.000</td> <td>    0.000</td>\n",
       "</tr>\n",
       "<tr>\n",
       "  <th>x10</th>   <td>   -0.0322</td> <td>    0.006</td> <td>   -5.354</td> <td> 0.000</td> <td>   -0.044</td> <td>   -0.020</td>\n",
       "</tr>\n",
       "<tr>\n",
       "  <th>x11</th>   <td>    0.0002</td> <td>    0.000</td> <td>    1.647</td> <td> 0.100</td> <td>-4.08e-05</td> <td>    0.000</td>\n",
       "</tr>\n",
       "<tr>\n",
       "  <th>x12</th>   <td>   -0.0292</td> <td>    0.002</td> <td>  -12.648</td> <td> 0.000</td> <td>   -0.034</td> <td>   -0.025</td>\n",
       "</tr>\n",
       "</table>\n",
       "<table class=\"simpletable\">\n",
       "<tr>\n",
       "  <th>Omnibus:</th>       <td>54.281</td> <th>  Durbin-Watson:     </th> <td>   1.950</td>\n",
       "</tr>\n",
       "<tr>\n",
       "  <th>Prob(Omnibus):</th> <td> 0.000</td> <th>  Jarque-Bera (JB):  </th> <td> 193.988</td>\n",
       "</tr>\n",
       "<tr>\n",
       "  <th>Skew:</th>          <td> 0.547</td> <th>  Prob(JB):          </th> <td>7.52e-43</td>\n",
       "</tr>\n",
       "<tr>\n",
       "  <th>Kurtosis:</th>      <td> 6.214</td> <th>  Cond. No.          </th> <td>1.45e+04</td>\n",
       "</tr>\n",
       "</table><br/><br/>Warnings:<br/>[1] Standard Errors assume that the covariance matrix of the errors is correctly specified.<br/>[2] The condition number is large, 1.45e+04. This might indicate that there are<br/>strong multicollinearity or other numerical problems."
      ],
      "text/plain": [
       "<class 'statsmodels.iolib.summary.Summary'>\n",
       "\"\"\"\n",
       "                            OLS Regression Results                            \n",
       "==============================================================================\n",
       "Dep. Variable:                      y   R-squared:                       0.778\n",
       "Model:                            OLS   Adj. R-squared:                  0.771\n",
       "Method:                 Least Squares   F-statistic:                     114.3\n",
       "Date:                Tue, 20 Nov 2018   Prob (F-statistic):          9.98e-120\n",
       "Time:                        16:28:17   Log-Likelihood:                 95.142\n",
       "No. Observations:                 404   AIC:                            -164.3\n",
       "Df Residuals:                     391   BIC:                            -112.3\n",
       "Df Model:                          12                                         \n",
       "Covariance Type:            nonrobust                                         \n",
       "==============================================================================\n",
       "                 coef    std err          t      P>|t|      [0.025      0.975]\n",
       "------------------------------------------------------------------------------\n",
       "const          3.8200      0.222     17.207      0.000       3.383       4.256\n",
       "x1            -0.0082      0.001     -6.066      0.000      -0.011      -0.006\n",
       "x2             0.0005      0.001      0.862      0.389      -0.001       0.002\n",
       "x3            -0.0022      0.003     -0.774      0.439      -0.008       0.003\n",
       "x4             0.1405      0.040      3.491      0.001       0.061       0.220\n",
       "x5            -0.6030      0.172     -3.504      0.001      -0.941      -0.265\n",
       "x6             0.1062      0.019      5.635      0.000       0.069       0.143\n",
       "x7           1.04e-05      0.001      0.018      0.986      -0.001       0.001\n",
       "x8            -0.0462      0.009     -5.187      0.000      -0.064      -0.029\n",
       "x9         -3.298e-05      0.000     -0.307      0.759      -0.000       0.000\n",
       "x10           -0.0322      0.006     -5.354      0.000      -0.044      -0.020\n",
       "x11            0.0002      0.000      1.647      0.100   -4.08e-05       0.000\n",
       "x12           -0.0292      0.002    -12.648      0.000      -0.034      -0.025\n",
       "==============================================================================\n",
       "Omnibus:                       54.281   Durbin-Watson:                   1.950\n",
       "Prob(Omnibus):                  0.000   Jarque-Bera (JB):              193.988\n",
       "Skew:                           0.547   Prob(JB):                     7.52e-43\n",
       "Kurtosis:                       6.214   Cond. No.                     1.45e+04\n",
       "==============================================================================\n",
       "\n",
       "Warnings:\n",
       "[1] Standard Errors assume that the covariance matrix of the errors is correctly specified.\n",
       "[2] The condition number is large, 1.45e+04. This might indicate that there are\n",
       "strong multicollinearity or other numerical problems.\n",
       "\"\"\""
      ]
     },
     "execution_count": 69,
     "metadata": {},
     "output_type": "execute_result"
    }
   ],
   "source": [
    "# Create arrays for features and target variable and transform MEDV values with np.log\n",
    "y = np.log(df['MEDV'].values)\n",
    "X = df[reduced_features].values\n",
    "\n",
    "# Create train and test sets of data\n",
    "X_train, X_test, y_train, y_test = train_test_split(X, y, test_size=0.2)\n",
    "\n",
    "# add constant\n",
    "X_trainc = sm.add_constant(X_train)\n",
    "\n",
    "# initialize model\n",
    "reg = sm.OLS(y_train, X_trainc)\n",
    "\n",
    "# fit model\n",
    "fit = reg.fit()\n",
    "\n",
    "# model summary\n",
    "fit.summary()"
   ]
  },
  {
   "cell_type": "markdown",
   "metadata": {},
   "source": [
    "#### P-value Allows for Further Feature Reduction (P>|t|)\n",
    "Importantly, x2, x3, x7, and x9 all have P-values which are too high, wich suggests they are not significant predictors of `MEDV`. I'll remove them re-run the model, and see if there any additional features with high P-values."
   ]
  },
  {
   "cell_type": "code",
   "execution_count": 71,
   "metadata": {},
   "outputs": [
    {
     "data": {
      "text/html": [
       "<table class=\"simpletable\">\n",
       "<caption>OLS Regression Results</caption>\n",
       "<tr>\n",
       "  <th>Dep. Variable:</th>            <td>y</td>        <th>  R-squared:         </th> <td>   0.798</td> \n",
       "</tr>\n",
       "<tr>\n",
       "  <th>Model:</th>                   <td>OLS</td>       <th>  Adj. R-squared:    </th> <td>   0.793</td> \n",
       "</tr>\n",
       "<tr>\n",
       "  <th>Method:</th>             <td>Least Squares</td>  <th>  F-statistic:       </th> <td>   172.9</td> \n",
       "</tr>\n",
       "<tr>\n",
       "  <th>Date:</th>             <td>Tue, 20 Nov 2018</td> <th>  Prob (F-statistic):</th> <td>6.47e-131</td>\n",
       "</tr>\n",
       "<tr>\n",
       "  <th>Time:</th>                 <td>16:37:10</td>     <th>  Log-Likelihood:    </th> <td>  110.75</td> \n",
       "</tr>\n",
       "<tr>\n",
       "  <th>No. Observations:</th>      <td>   404</td>      <th>  AIC:               </th> <td>  -201.5</td> \n",
       "</tr>\n",
       "<tr>\n",
       "  <th>Df Residuals:</th>          <td>   394</td>      <th>  BIC:               </th> <td>  -161.5</td> \n",
       "</tr>\n",
       "<tr>\n",
       "  <th>Df Model:</th>              <td>     9</td>      <th>                     </th>     <td> </td>    \n",
       "</tr>\n",
       "<tr>\n",
       "  <th>Covariance Type:</th>      <td>nonrobust</td>    <th>                     </th>     <td> </td>    \n",
       "</tr>\n",
       "</table>\n",
       "<table class=\"simpletable\">\n",
       "<tr>\n",
       "    <td></td>       <th>coef</th>     <th>std err</th>      <th>t</th>      <th>P>|t|</th>  <th>[0.025</th>    <th>0.975]</th>  \n",
       "</tr>\n",
       "<tr>\n",
       "  <th>const</th> <td>    3.3873</td> <td>    0.227</td> <td>   14.891</td> <td> 0.000</td> <td>    2.940</td> <td>    3.834</td>\n",
       "</tr>\n",
       "<tr>\n",
       "  <th>x1</th>    <td>   -0.0066</td> <td>    0.001</td> <td>   -4.686</td> <td> 0.000</td> <td>   -0.009</td> <td>   -0.004</td>\n",
       "</tr>\n",
       "<tr>\n",
       "  <th>x2</th>    <td>    0.1068</td> <td>    0.037</td> <td>    2.875</td> <td> 0.004</td> <td>    0.034</td> <td>    0.180</td>\n",
       "</tr>\n",
       "<tr>\n",
       "  <th>x3</th>    <td>   -0.5824</td> <td>    0.157</td> <td>   -3.706</td> <td> 0.000</td> <td>   -0.891</td> <td>   -0.273</td>\n",
       "</tr>\n",
       "<tr>\n",
       "  <th>x4</th>    <td>    0.1468</td> <td>    0.019</td> <td>    7.909</td> <td> 0.000</td> <td>    0.110</td> <td>    0.183</td>\n",
       "</tr>\n",
       "<tr>\n",
       "  <th>x5</th>    <td>   -0.0420</td> <td>    0.007</td> <td>   -5.803</td> <td> 0.000</td> <td>   -0.056</td> <td>   -0.028</td>\n",
       "</tr>\n",
       "<tr>\n",
       "  <th>x6</th>    <td>-6.131e-05</td> <td> 9.19e-05</td> <td>   -0.667</td> <td> 0.505</td> <td>   -0.000</td> <td>    0.000</td>\n",
       "</tr>\n",
       "<tr>\n",
       "  <th>x7</th>    <td>   -0.0329</td> <td>    0.005</td> <td>   -6.198</td> <td> 0.000</td> <td>   -0.043</td> <td>   -0.022</td>\n",
       "</tr>\n",
       "<tr>\n",
       "  <th>x8</th>    <td>    0.0005</td> <td>    0.000</td> <td>    4.642</td> <td> 0.000</td> <td>    0.000</td> <td>    0.001</td>\n",
       "</tr>\n",
       "<tr>\n",
       "  <th>x9</th>    <td>   -0.0268</td> <td>    0.002</td> <td>  -12.727</td> <td> 0.000</td> <td>   -0.031</td> <td>   -0.023</td>\n",
       "</tr>\n",
       "</table>\n",
       "<table class=\"simpletable\">\n",
       "<tr>\n",
       "  <th>Omnibus:</th>       <td>66.276</td> <th>  Durbin-Watson:     </th> <td>   1.869</td>\n",
       "</tr>\n",
       "<tr>\n",
       "  <th>Prob(Omnibus):</th> <td> 0.000</td> <th>  Jarque-Bera (JB):  </th> <td> 347.624</td>\n",
       "</tr>\n",
       "<tr>\n",
       "  <th>Skew:</th>          <td> 0.558</td> <th>  Prob(JB):          </th> <td>3.27e-76</td>\n",
       "</tr>\n",
       "<tr>\n",
       "  <th>Kurtosis:</th>      <td> 7.405</td> <th>  Cond. No.          </th> <td>1.49e+04</td>\n",
       "</tr>\n",
       "</table><br/><br/>Warnings:<br/>[1] Standard Errors assume that the covariance matrix of the errors is correctly specified.<br/>[2] The condition number is large, 1.49e+04. This might indicate that there are<br/>strong multicollinearity or other numerical problems."
      ],
      "text/plain": [
       "<class 'statsmodels.iolib.summary.Summary'>\n",
       "\"\"\"\n",
       "                            OLS Regression Results                            \n",
       "==============================================================================\n",
       "Dep. Variable:                      y   R-squared:                       0.798\n",
       "Model:                            OLS   Adj. R-squared:                  0.793\n",
       "Method:                 Least Squares   F-statistic:                     172.9\n",
       "Date:                Tue, 20 Nov 2018   Prob (F-statistic):          6.47e-131\n",
       "Time:                        16:37:10   Log-Likelihood:                 110.75\n",
       "No. Observations:                 404   AIC:                            -201.5\n",
       "Df Residuals:                     394   BIC:                            -161.5\n",
       "Df Model:                           9                                         \n",
       "Covariance Type:            nonrobust                                         \n",
       "==============================================================================\n",
       "                 coef    std err          t      P>|t|      [0.025      0.975]\n",
       "------------------------------------------------------------------------------\n",
       "const          3.3873      0.227     14.891      0.000       2.940       3.834\n",
       "x1            -0.0066      0.001     -4.686      0.000      -0.009      -0.004\n",
       "x2             0.1068      0.037      2.875      0.004       0.034       0.180\n",
       "x3            -0.5824      0.157     -3.706      0.000      -0.891      -0.273\n",
       "x4             0.1468      0.019      7.909      0.000       0.110       0.183\n",
       "x5            -0.0420      0.007     -5.803      0.000      -0.056      -0.028\n",
       "x6         -6.131e-05   9.19e-05     -0.667      0.505      -0.000       0.000\n",
       "x7            -0.0329      0.005     -6.198      0.000      -0.043      -0.022\n",
       "x8             0.0005      0.000      4.642      0.000       0.000       0.001\n",
       "x9            -0.0268      0.002    -12.727      0.000      -0.031      -0.023\n",
       "==============================================================================\n",
       "Omnibus:                       66.276   Durbin-Watson:                   1.869\n",
       "Prob(Omnibus):                  0.000   Jarque-Bera (JB):              347.624\n",
       "Skew:                           0.558   Prob(JB):                     3.27e-76\n",
       "Kurtosis:                       7.405   Cond. No.                     1.49e+04\n",
       "==============================================================================\n",
       "\n",
       "Warnings:\n",
       "[1] Standard Errors assume that the covariance matrix of the errors is correctly specified.\n",
       "[2] The condition number is large, 1.49e+04. This might indicate that there are\n",
       "strong multicollinearity or other numerical problems.\n",
       "\"\"\""
      ]
     },
     "execution_count": 71,
     "metadata": {},
     "output_type": "execute_result"
    }
   ],
   "source": [
    "# Remove x2, x3, x7, and x9\n",
    "reduced_features = [f for f in features if f not in ['ZN', 'INDUS', 'AGE', 'INDUS', 'RAD']]\n",
    "\n",
    "# Do it all over again \n",
    "y = np.log(df['MEDV'].values)\n",
    "X = df[reduced_features].values\n",
    "X_train, X_test, y_train, y_test = train_test_split(X, y, test_size=0.2)\n",
    "X_trainc = sm.add_constant(X_train)\n",
    "reg = sm.OLS(y_train, X_trainc)\n",
    "fit = reg.fit()\n",
    "fit.summary()"
   ]
  },
  {
   "cell_type": "markdown",
   "metadata": {},
   "source": [
    "#### P-value Allows for Further Feature Reduction (P>|t|)\n",
    "x6 with a P-value of 0.505 is too high, so I'll remove that feature as well."
   ]
  },
  {
   "cell_type": "code",
   "execution_count": 76,
   "metadata": {},
   "outputs": [
    {
     "name": "stdout",
     "output_type": "stream",
     "text": [
      "['CRIM', 'CHAS', 'NX', 'RM', 'DIS', 'PTRATIO', 'B', 'LSTAT']\n"
     ]
    }
   ],
   "source": [
    "# Remove x6\n",
    "reduced_features = [f for f in reduced_features if f != 'TAX']\n",
    "\n",
    "print(reduced_features)"
   ]
  },
  {
   "cell_type": "markdown",
   "metadata": {},
   "source": [
    "#### Plotting the Model\n",
    "What we're left with are only the most predictive feature for which we can build a robust model. A plot of a linear regressor with only these features follows."
   ]
  },
  {
   "cell_type": "code",
   "execution_count": 77,
   "metadata": {},
   "outputs": [
    {
     "data": {
      "text/plain": [
       "Text(0.5,1,'Prices vs Predicted prices: $Y_i$ vs $\\\\hat{Y}_i$')"
      ]
     },
     "execution_count": 77,
     "metadata": {},
     "output_type": "execute_result"
    },
    {
     "data": {
      "image/png": "[encoded data removed]",
      "text/plain": [
       "<Figure size 432x288 with 1 Axes>"
      ]
     },
     "metadata": {
      "needs_background": "light"
     },
     "output_type": "display_data"
    }
   ],
   "source": [
    "y = np.log(df['MEDV'].values)\n",
    "X = df[reduced_features].values\n",
    "\n",
    "# Create train and test sets\n",
    "X_train, X_test, y_train, y_test = train_test_split(X, y, test_size=0.35, random_state=42)\n",
    "\n",
    "reg = LinearRegression()\n",
    "reg.fit(X_train, y_train)\n",
    "\n",
    "y_pred = reg.predict(X_test)\n",
    "\n",
    "plt.scatter(y_test, y_pred, color='blue')\n",
    "plt.xlabel(\"Prices: $Y_i$\")\n",
    "plt.ylabel(\"Predicted prices: $\\hat{Y}_i$\")\n",
    "plt.title(\"Prices vs Predicted prices: $Y_i$ vs $\\hat{Y}_i$\")"
   ]
  },
  {
   "cell_type": "markdown",
   "metadata": {},
   "source": [
    "#### Visualizing the Model\n",
    "Ideally, the scatter plot should create a more perfect straight line. "
   ]
  },
  {
   "cell_type": "code",
   "execution_count": 78,
   "metadata": {},
   "outputs": [
    {
     "name": "stdout",
     "output_type": "stream",
     "text": [
      "Root Mean Squared Error: 0.19866295466\n"
     ]
    }
   ],
   "source": [
    "rmse = np.sqrt(mean_squared_error(y_test, y_pred))\n",
    "print(\"Root Mean Squared Error: {}\".format(rmse))"
   ]
  },
  {
   "cell_type": "markdown",
   "metadata": {},
   "source": [
    "#### Mean Squared Error\n",
    "To check the level of error of a model, we can Mean Squared Error. It is one of the procedure to measures the average of the squares of error. Basically, it will check the difference between actual value and the predicted value. For the full theory, you can always search it online. To use it, we can use the mean squared error function of scikit-learn by running this snippet of code."
   ]
  },
  {
   "cell_type": "code",
   "execution_count": 90,
   "metadata": {},
   "outputs": [
    {
     "name": "stdout",
     "output_type": "stream",
     "text": [
      "[0.73853776 0.77917984 0.50681253 0.48396878 0.48812629]\n",
      "0.5993250390686805\n"
     ]
    }
   ],
   "source": [
    "# Instantiate a ridge regressor\n",
    "ridge = Ridge(alpha=0.5, normalize=True)\n",
    "\n",
    "# Perform 5-fold cross-validation\n",
    "ridge_cv = cross_val_score(ridge, X, y, cv=5)\n",
    "\n",
    "# Print the cross-validated scores\n",
    "print(ridge_cv)"
   ]
  },
  {
   "cell_type": "code",
   "execution_count": 80,
   "metadata": {},
   "outputs": [
    {
     "name": "stdout",
     "output_type": "stream",
     "text": [
      "Tuned ElasticNet l1 ratio: {'l1_ratio': 0.06896551724137931}\n",
      "Tuned ElasticNet R squared: 0.657763259858\n",
      "Tuned ElasticNet MSE: 0.0532872715243\n"
     ]
    }
   ],
   "source": [
    "# Import the neccessary modules\n",
    "from sklearn.model_selection import GridSearchCV\n",
    "from sklearn.linear_model import ElasticNet\n",
    "\n",
    "# Create the hyperparameter grid\n",
    "l1_space = np.linspace(0, 1, 30)\n",
    "param_grid = {'l1_ratio': l1_space}\n",
    "\n",
    "# Instantiate an ElasticNet regressor\n",
    "elastic_net = ElasticNet(tol=1)\n",
    "\n",
    "# Setup the GridSearchCV object\n",
    "gm_cv = GridSearchCV(elastic_net, param_grid, cv=5)\n",
    "\n",
    "# Fit it to the training data\n",
    "gm_cv.fit(X_train, y_train)\n",
    "\n",
    "# Predict on the test set and compute metrics\n",
    "y_pred = gm_cv.predict(X_test)\n",
    "r2 = gm_cv.score(X_test, y_test)\n",
    "mse = mean_squared_error(y_test, y_pred)\n",
    "print(\"Tuned ElasticNet l1 ratio: {}\".format(gm_cv.best_params_))\n",
    "print(\"Tuned ElasticNet R squared: {}\".format(r2))\n",
    "print(\"Tuned ElasticNet MSE: {}\".format(mse))"
   ]
  },
  {
   "cell_type": "code",
   "execution_count": 81,
   "metadata": {},
   "outputs": [
    {
     "name": "stdout",
     "output_type": "stream",
     "text": [
      "Tuned ElasticNet Alpha: {'elasticnet__l1_ratio': 0.0}\n",
      "Tuned ElasticNet R squared: 0.683085588391\n",
      "Tuned ElasticNet MSE: 0.0532872715243\n"
     ]
    }
   ],
   "source": [
    "# Import the neccessary modules\n",
    "from sklearn.preprocessing import Imputer\n",
    "from sklearn.preprocessing import StandardScaler\n",
    "from sklearn.pipeline import Pipeline\n",
    "\n",
    "# Setup the pipeline steps and take the mean of a given feature/column in place of any missing values.\n",
    "steps = [('imputation', Imputer(missing_values='NaN', strategy='mean', axis=0)),\n",
    "         ('scaler', StandardScaler()),\n",
    "         ('elasticnet', ElasticNet(tol=1))]\n",
    "\n",
    "# Create the pipeline\n",
    "pipeline = Pipeline(steps)\n",
    "\n",
    "# Specify the hyperparameter space\n",
    "parameters = {'elasticnet__l1_ratio':np.linspace(0,1,30)}\n",
    "\n",
    "# Create the GridSearchCV object: gm_cv\n",
    "gm_cv = GridSearchCV(pipeline, parameters, cv=5)\n",
    "\n",
    "# Fit to the training set\n",
    "gm_cv.fit(X_train, y_train)\n",
    "\n",
    "# Compute and print the metrics\n",
    "r2 = gm_cv.score(X_test, y_test)\n",
    "mse = mean_squared_error(y_test, y_pred)\n",
    "print(\"Tuned ElasticNet Alpha: {}\".format(gm_cv.best_params_))\n",
    "print(\"Tuned ElasticNet R squared: {}\".format(r2))\n",
    "print(\"Tuned ElasticNet MSE: {}\".format(mse))"
   ]
  },
  {
   "cell_type": "markdown",
   "metadata": {},
   "source": [
    "#### Conclusion\n",
    "\n",
    "I'd hesitate to use this in the real world, seeing as the range of predictions for a single data point covers nearly a standard deviation of the data set it was trained on. Though 'MDEV' was scaled for inflation, that does not account for changes in housing demand within the city since the 1970s, and outside urban areas, features like teacher/student ratio may not correlate with selling price in the same way. We might also be concerned that this model is too simple to capture other indicators of selling price, like school proximity, condition of the house, or crime rate. In summary, with a few tweaks, the model could be adapted to modern Boston, but would be near useless anywhere else."
   ]
  },
  {
   "cell_type": "code",
   "execution_count": null,
   "metadata": {},
   "outputs": [],
   "source": []
  }
 ],
 "metadata": {
  "kernelspec": {
   "display_name": "Python 3",
   "language": "python",
   "name": "python3"
  },
  "language_info": {
   "codemirror_mode": {
    "name": "ipython",
    "version": 2
   },
   "file_extension": ".py",
   "mimetype": "text/x-python",
   "name": "python",
   "nbconvert_exporter": "python",
   "pygments_lexer": "ipython2",
   "version": "2.7.15"
  }
 },
 "nbformat": 4,
 "nbformat_minor": 2
}
